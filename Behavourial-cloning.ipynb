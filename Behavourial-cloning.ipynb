{
 "cells": [
  {
   "cell_type": "code",
   "execution_count": null,
   "metadata": {},
   "outputs": [],
   "source": [
    "!git clone https://github.com/rslim087a/track"
   ]
  },
  {
   "cell_type": "code",
   "execution_count": null,
   "metadata": {},
   "outputs": [],
   "source": [
    "!ls track"
   ]
  },
  {
   "cell_type": "code",
   "execution_count": null,
   "metadata": {},
   "outputs": [],
   "source": [
    "!pip3 install imgaug"
   ]
  },
  {
   "cell_type": "code",
   "execution_count": null,
   "metadata": {},
   "outputs": [],
   "source": [
    "import os\n",
    "2 import numpy as np\n",
    "3 import matplotlib.pyplot as plt\n",
    "4 import matplotlib.image as mpimg\n",
    "5 import keras\n",
    "6 from keras.models import Sequential\n",
    "7 from keras.optimizers import Adam\n",
    "8 from keras.layers import Convolution2D, MaxPooling2D, Dropout, Flatten, Dense\n",
    "9 from sklearn.utils import shuffle\n",
    "10 from sklearn.model_selection import train_test_split\n",
    "11 from imgaug import augmenters as iaa\n",
    "12 import cv2\n",
    "13 import pandas as pd\n",
    "14 import ntpath\n",
    "15 import random\n"
   ]
  },
  {
   "cell_type": "code",
   "execution_count": null,
   "metadata": {},
   "outputs": [],
   "source": [
    "datadir = 'track'\n",
    "2 columns = ['center', 'left', 'right', 'steering', 'throttle', 'reverse', 'speed']\n",
    "3 data = pd.read_csv(os.path.join(datadir, 'driving_log.csv'), names = columns)\n",
    "4 pd.set_option('display.max_colwidth', -1)\n",
    "5 data.head()\n"
   ]
  },
  {
   "cell_type": "code",
   "execution_count": null,
   "metadata": {},
   "outputs": [],
   "source": [
    "def path_leaf(path):\n",
    "2   head, tail = ntpath.split(path)\n",
    "3   return tail\n",
    "4 data['center'] = data['center'].apply(path_leaf)\n",
    "5 data['left'] = data['left'].apply(path_leaf)\n",
    "6 data['right'] = data['right'].apply(path_leaf)\n",
    "7 data.head()\n"
   ]
  },
  {
   "cell_type": "code",
   "execution_count": null,
   "metadata": {},
   "outputs": [],
   "source": [
    "num_bins = 25\n",
    "2 samples_per_bin = 400\n",
    "3 hist, bins = np.histogram(data['steering'], num_bins)\n",
    "4 center = (bins[:-1]+ bins[1:]) * 0.5\n",
    "5 plt.bar(center, hist, width=0.05)\n",
    "6 plt.plot((np.min(data['steering']), np.max(data['steering'])), (samples_per_bin, samples_per_bin))\n"
   ]
  },
  {
   "cell_type": "code",
   "execution_count": null,
   "metadata": {},
   "outputs": [],
   "source": [
    "print('total data:', len(data))\n",
    "2 remove_list = []\n",
    "3 for j in range(num_bins):\n",
    "4   list_ = []\n",
    "5   for i in range(len(data['steering'])):\n",
    "6     if data['steering'][i] >= bins[j] and data['steering'][i] <= bins[j+1]:\n",
    "7       list_.append(i)\n",
    "8   list_ = shuffle(list_)\n",
    "9   list_ = list_[samples_per_bin:]\n",
    "10   remove_list.extend(list_)\n",
    "11  \n",
    "12 print('removed:', len(remove_list))\n",
    "13 data.drop(data.index[remove_list], inplace=True)\n",
    "14 print('remaining:', len(data))\n",
    "15  \n",
    "16 hist, _ = np.histogram(data['steering'], (num_bins))\n",
    "17 plt.bar(center, hist, width=0.05)\n",
    "18 plt.plot((np.min(data['steering']), np.max(data['steering'])), (samples_per_bin, samples_per_bin))\n"
   ]
  },
  {
   "cell_type": "code",
   "execution_count": null,
   "metadata": {},
   "outputs": [],
   "source": [
    "print(data.iloc[1])\n",
    "2 def load_img_steering(datadir, df):\n",
    "3   image_path = []\n",
    "4   steering = []\n",
    "5   for i in range(len(data)):\n",
    "6     indexed_data = data.iloc[i]\n",
    "7     center, left, right = indexed_data[0], indexed_data[1], indexed_data[2]\n",
    "8     image_path.append(os.path.join(datadir, center.strip()))\n",
    "9     steering.append(float(indexed_data[3]))\n",
    "10     # left image append\n",
    "11     image_path.append(os.path.join(datadir,left.strip()))\n",
    "12     steering.append(float(indexed_data[3])+0.15)\n",
    "13     # right image append\n",
    "14     image_path.append(os.path.join(datadir,right.strip()))\n",
    "15     steering.append(float(indexed_data[3])-0.15)\n",
    "16   image_paths = np.asarray(image_path)\n",
    "17   steerings = np.asarray(steering)\n",
    "18   return image_paths, steerings\n",
    "19  \n",
    "20 image_paths, steerings = load_img_steering(datadir + '/IMG', data)\n"
   ]
  },
  {
   "cell_type": "code",
   "execution_count": null,
   "metadata": {},
   "outputs": [],
   "source": [
    "\n",
    "X_train, X_valid, y_train, y_valid = train_test_split(image_paths, steerings, test_size=0.2, random_state=6)\n",
    "2 print('Training Samples: {}\\nValid Samples: {}'.format(len(X_train), len(X_valid)))\n",
    "\n",
    "\n",
    "\n",
    "1 fig, axes = plt.subplots(1, 2, figsize=(12, 4))\n",
    "2 axes[0].hist(y_train, bins=num_bins, width=0.05, color='blue')\n",
    "3 axes[0].set_title('Training set')\n",
    "4 axes[1].hist(y_valid, bins=num_bins, width=0.05, color='red')\n",
    "5 axes[1].set_title('Validation set')\n",
    "\n"
   ]
  },
  {
   "cell_type": "code",
   "execution_count": null,
   "metadata": {},
   "outputs": [],
   "source": [
    "\n",
    "def zoom(image):\n",
    "2   zoom = iaa.Affine(scale=(1, 1.3))\n",
    "3   image = zoom.augment_image(image)\n",
    "4   return image\n",
    "\n",
    "\n",
    "\n",
    "1 image = image_paths[random.randint(0, 1000)]\n",
    "2 original_image = mpimg.imread(image)\n",
    "3 zoomed_image = zoom(original_image)\n",
    "4  \n",
    "5 fig, axs = plt.subplots(1, 2, figsize=(15, 10))\n",
    "6 fig.tight_layout()\n",
    "7  \n",
    "8 axs[0].imshow(original_image)\n",
    "9 axs[0].set_title('Original Image')\n",
    "10  \n",
    "11 axs[1].imshow(zoomed_image)\n",
    "12 axs[1].set_title('Zoomed Image')\n",
    "\n"
   ]
  },
  {
   "cell_type": "code",
   "execution_count": null,
   "metadata": {},
   "outputs": [],
   "source": [
    "\n",
    "def pan(image):\n",
    "2   pan = iaa.Affine(translate_percent= {\"x\" : (-0.1, 0.1), \"y\": (-0.1, 0.1)})\n",
    "3   image = pan.augment_image(image)\n",
    "4   return image\n",
    "\n",
    "\n",
    "\n",
    "1 image = image_paths[random.randint(0, 1000)]\n",
    "2 original_image = mpimg.imread(image)\n",
    "3 panned_image = pan(original_image)\n",
    "4  \n",
    "5 fig, axs = plt.subplots(1, 2, figsize=(15, 10))\n",
    "6 fig.tight_layout()\n",
    "7  \n",
    "8 axs[0].imshow(original_image)\n",
    "9 axs[0].set_title('Original Image')\n",
    "10  \n",
    "11 axs[1].imshow(panned_image)\n",
    "12 axs[1].set_title('Panned Image')\n",
    "\n"
   ]
  },
  {
   "cell_type": "code",
   "execution_count": null,
   "metadata": {},
   "outputs": [],
   "source": [
    "def img_random_brightness(image):\n",
    "2     brightness = iaa.Multiply((0.2, 1.2))\n",
    "3     image = brightness.augment_image(image)\n",
    "4     return image\n"
   ]
  },
  {
   "cell_type": "code",
   "execution_count": null,
   "metadata": {},
   "outputs": [],
   "source": [
    "image = image_paths[random.randint(0, 1000)]\n",
    "2 original_image = mpimg.imread(image)\n",
    "3 brightness_altered_image = img_random_brightness(original_image)\n",
    "4  \n",
    "5 fig, axs = plt.subplots(1, 2, figsize=(15, 10))\n",
    "6 fig.tight_layout()\n",
    "7  \n",
    "8 axs[0].imshow(original_image)\n",
    "9 axs[0].set_title('Original Image')\n",
    "10  \n",
    "11 axs[1].imshow(brightness_altered_image)\n",
    "12 axs[1].set_title('Brightness altered image ')\n"
   ]
  },
  {
   "cell_type": "code",
   "execution_count": null,
   "metadata": {},
   "outputs": [],
   "source": [
    "\n",
    "def img_random_flip(image, steering_angle):\n",
    "2     image = cv2.flip(image,1)\n",
    "3     steering_angle = -steering_angle\n",
    "4     return image, steering_angle\n",
    "\n",
    "\n",
    "\n",
    "1 random_index = random.randint(0, 1000)\n",
    "2 image = image_paths[random_index]\n",
    "3 steering_angle = steerings[random_index]\n",
    "4  \n",
    "5  \n",
    "6 original_image = mpimg.imread(image)\n",
    "7 flipped_image, flipped_steering_angle = img_random_flip(original_image, steering_angle)\n",
    "8  \n",
    "9 fig, axs = plt.subplots(1, 2, figsize=(15, 10))\n",
    "10 fig.tight_layout()\n",
    "11  \n",
    "12 axs[0].imshow(original_image)\n",
    "13 axs[0].set_title('Original Image - ' + 'Steering Angle:' + str(steering_angle))\n",
    "14  \n",
    "15 axs[1].imshow(flipped_image)\n",
    "16 axs[1].set_title('Flipped Image - ' + 'Steering Angle:' + str(flipped_steering_angle))\n",
    "\n"
   ]
  },
  {
   "cell_type": "code",
   "execution_count": null,
   "metadata": {},
   "outputs": [],
   "source": [
    "def random_augment(image, steering_angle):\n",
    "2     image = mpimg.imread(image)\n",
    "3     if np.random.rand() < 0.5:\n",
    "4       image = pan(image)\n",
    "5     if np.random.rand() < 0.5:\n",
    "6       image = zoom(image)\n",
    "7     if np.random.rand() < 0.5:\n",
    "8       image = img_random_brightness(image)\n",
    "9     if np.random.rand() < 0.5:\n",
    "10       image, steering_angle = img_random_flip(image, steering_angle)\n",
    "11     \n",
    "12     return image, steering_angle\n"
   ]
  },
  {
   "cell_type": "code",
   "execution_count": null,
   "metadata": {},
   "outputs": [],
   "source": [
    "ncol = 2\n",
    "2 nrow = 10\n",
    "3  \n",
    "4 fig, axs = plt.subplots(nrow, ncol, figsize=(15, 50))\n",
    "5 fig.tight_layout()\n",
    "6  \n",
    "7 for i in range(10):\n",
    "8   randnum = random.randint(0, len(image_paths) - 1)\n",
    "9   random_image = image_paths[randnum]\n",
    "10   random_steering = steerings[randnum]\n",
    "11     \n",
    "12   original_image = mpimg.imread(random_image)\n",
    "13   augmented_image, steering = random_augment(random_image, random_steering)\n",
    "14     \n",
    "15   axs[i][0].imshow(original_image)\n",
    "16   axs[i][0].set_title(\"Original Image\")\n",
    "17   \n",
    "18   axs[i][1].imshow(augmented_image)\n",
    "19   axs[i][1].set_title(\"Augmented Image\")\n"
   ]
  },
  {
   "cell_type": "code",
   "execution_count": null,
   "metadata": {},
   "outputs": [],
   "source": [
    "def img_preprocess(img):\n",
    "2     img = img[60:135,:,:]\n",
    "3     img = cv2.cvtColor(img, cv2.COLOR_RGB2YUV)\n",
    "4     img = cv2.GaussianBlur(img,  (3, 3), 0)\n",
    "5     img = cv2.resize(img, (200, 66))\n",
    "6     img = img/255\n",
    "7     return img\n"
   ]
  },
  {
   "cell_type": "code",
   "execution_count": null,
   "metadata": {},
   "outputs": [],
   "source": [
    "image = image_paths[100]\n",
    "2 original_image = mpimg.imread(image)\n",
    "3 preprocessed_image = img_preprocess(original_image)\n",
    "4  \n",
    "5 fig, axs = plt.subplots(1, 2, figsize=(15, 10))\n",
    "6 fig.tight_layout()\n",
    "7 axs[0].imshow(original_image)\n",
    "8 axs[0].set_title('Original Image')\n",
    "9 axs[1].imshow(preprocessed_image)\n",
    "10 axs[1].set_title('Preprocessed Image')\n"
   ]
  },
  {
   "cell_type": "code",
   "execution_count": null,
   "metadata": {},
   "outputs": [],
   "source": [
    "def batch_generator(image_paths, steering_ang, batch_size, istraining):\n",
    "2   \n",
    "3   while True:\n",
    "4     batch_img = []\n",
    "5     batch_steering = []\n",
    "6     \n",
    "7     for i in range(batch_size):\n",
    "8       random_index = random.randint(0, len(image_paths) - 1)\n",
    "9       \n",
    "10       if istraining:\n",
    "11         im, steering = random_augment(image_paths[random_index], steering_ang[random_index])\n",
    "12      \n",
    "13       else:\n",
    "14         im = mpimg.imread(image_paths[random_index])\n",
    "15         steering = steering_ang[random_index]\n",
    "16       \n",
    "17       im = img_preprocess(im)\n",
    "18       batch_img.append(im)\n",
    "19       batch_steering.append(steering)\n",
    "20     yield (np.asarray(batch_img), np.asarray(batch_steering))  \n"
   ]
  },
  {
   "cell_type": "code",
   "execution_count": null,
   "metadata": {},
   "outputs": [],
   "source": [
    "x_train_gen, y_train_gen = next(batch_generator(X_train, y_train, 1, 1))\n",
    "2 x_valid_gen, y_valid_gen = next(batch_generator(X_valid, y_valid, 1, 0))\n",
    "3  \n",
    "4 fig, axs = plt.subplots(1, 2, figsize=(15, 10))\n",
    "5 fig.tight_layout()\n",
    "6  \n",
    "7 axs[0].imshow(x_train_gen[0])\n",
    "8 axs[0].set_title('Training Image')\n",
    "9  \n",
    "10 axs[1].imshow(x_valid_gen[0])\n",
    "11 axs[1].set_title('Validation Image')\n"
   ]
  },
  {
   "cell_type": "code",
   "execution_count": null,
   "metadata": {},
   "outputs": [],
   "source": [
    "def nvidia_model():\n",
    "2   model = Sequential()\n",
    "3   model.add(Convolution2D(24, 5, 5, subsample=(2, 2), input_shape=(66, 200, 3), activation='elu'))\n",
    "4   model.add(Convolution2D(36, 5, 5, subsample=(2, 2), activation='elu'))\n",
    "5   model.add(Convolution2D(48, 5, 5, subsample=(2, 2), activation='elu'))\n",
    "6   model.add(Convolution2D(64, 3, 3, activation='elu'))\n",
    "7   \n",
    "8   model.add(Convolution2D(64, 3, 3, activation='elu'))\n",
    "9 #   model.add(Dropout(0.5))\n",
    "10   \n",
    "11   \n",
    "12   model.add(Flatten())\n",
    "13   \n",
    "14   model.add(Dense(100, activation = 'elu'))\n",
    "15 #   model.add(Dropout(0.5))\n",
    "16   \n",
    "17   model.add(Dense(50, activation = 'elu'))\n",
    "18 #   model.add(Dropout(0.5))\n",
    "19   \n",
    "20   model.add(Dense(10, activation = 'elu'))\n",
    "21 #   model.add(Dropout(0.5))\n",
    "22  \n",
    "23   model.add(Dense(1))\n",
    "24   \n",
    "25   optimizer = Adam(lr=1e-3)\n",
    "26   model.compile(loss='mse', optimizer=optimizer)\n",
    "27   return model\n"
   ]
  },
  {
   "cell_type": "code",
   "execution_count": null,
   "metadata": {},
   "outputs": [],
   "source": [
    "\n",
    "model = nvidia_model()\n",
    "2 print(model.summary())\n",
    "\n",
    "\n",
    "\n",
    "1 history = model.fit_generator(batch_generator(X_train, y_train, 100, 1),\n",
    "2                                   steps_per_epoch=300, \n",
    "3                                   epochs=10,\n",
    "4                                   validation_data=batch_generator(X_valid, y_valid, 100, 0),\n",
    "5                                   validation_steps=200,\n",
    "6                                   verbose=1,\n",
    "7                                   shuffle = 1)\n",
    "\n"
   ]
  },
  {
   "cell_type": "code",
   "execution_count": null,
   "metadata": {},
   "outputs": [],
   "source": [
    "plt.plot(history.history['loss'])\n",
    "2 plt.plot(history.history['val_loss'])\n",
    "3 plt.legend(['training', 'validation'])\n",
    "4 plt.title('Loss')\n",
    "5 plt.xlabel('Epoch')\n"
   ]
  },
  {
   "cell_type": "code",
   "execution_count": null,
   "metadata": {},
   "outputs": [],
   "source": [
    "model.save('model.h5')"
   ]
  },
  {
   "cell_type": "code",
   "execution_count": null,
   "metadata": {},
   "outputs": [],
   "source": [
    "from google.colab import files\n",
    "2 files.download('model.h5')\n"
   ]
  },
  {
   "cell_type": "code",
   "execution_count": null,
   "metadata": {},
   "outputs": [],
   "source": []
  }
 ],
 "metadata": {
  "kernelspec": {
   "display_name": "Python 3",
   "language": "python",
   "name": "python3"
  },
  "language_info": {
   "codemirror_mode": {
    "name": "ipython",
    "version": 3
   },
   "file_extension": ".py",
   "mimetype": "text/x-python",
   "name": "python",
   "nbconvert_exporter": "python",
   "pygments_lexer": "ipython3",
   "version": "3.7.1"
  }
 },
 "nbformat": 4,
 "nbformat_minor": 2
}
